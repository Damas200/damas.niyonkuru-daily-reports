{
 "cells": [
  {
   "cell_type": "markdown",
   "metadata": {
    "id": "53N3iK03l1e2"
   },
   "source": [
    "# PyPro: Challenge 3\n",
    "\n",
    "### This challenge is due on Saturday, October 10th, 2024, at 8pm.\n",
    "\n",
    "`These exercises offer a diverse array of tasks that assess your comprehension of fundamental Python concepts such as loops, data types, string manipulations, list comprehensions, and higher-order functions.`"
   ]
  },
  {
   "cell_type": "markdown",
   "metadata": {
    "id": "53N3iK03l1e2"
   },
   "source": [
    "Here is the given text in proper markdown format with numbered questions:\n",
    "\n",
    "# PyPro Challenges"
   ]
  },
  {
   "cell_type": "markdown",
   "metadata": {
    "id": "53N3iK03l1e2"
   },
   "source": [
    "1. **Perfect Numbers Calculation**  \n",
    "   By definition, a natural number is called a perfect number if its value is equal to the sum of its divisors. For example, 6 and 28 are perfect numbers:\n",
    "   \n",
    "   ```\n",
    "   1 + 2 + 3 = 6\n",
    "   1 + 2 + 4 + 7 + 14 = 28\n",
    "   ```\n",
    "   \n",
    "   Write a function `calc_perfect_numbers(max_exclusive)` that calculates all perfect numbers up to a maximum value, such as 10,000."
   ]
  },
  {
   "cell_type": "code",
   "execution_count": 1,
   "metadata": {},
   "outputs": [],
   "source": [
    "def is_perfect(number):\n",
    "    \"\"\"Check if a number is perfect.\"\"\"\n",
    "    if number < 2:\n",
    "        return False\n",
    "    \n",
    "    sum_of_divisors = 1  \n",
    "    for i in range(2, int(number**0.5) + 1):\n",
    "        if number % i == 0:\n",
    "            sum_of_divisors += i\n",
    "            if i != number // i:  \n",
    "                sum_of_divisors += number // i\n",
    "    \n",
    "    return sum_of_divisors == number"
   ]
  },
  {
   "cell_type": "code",
   "execution_count": 2,
   "metadata": {},
   "outputs": [
    {
     "name": "stdout",
     "output_type": "stream",
     "text": [
      "Enter your max_exclusive: 10000\n",
      "Perfect numbers up to 10000: [6, 28, 496, 8128]\n"
     ]
    }
   ],
   "source": [
    "max_value = int(input(\"Enter your max_exclusive: \"))\n",
    "def calc_perfect_numbers(max_exclusive):\n",
    "    \"\"\"Calculate all perfect numbers up to a maximum value.\"\"\"\n",
    "    perfect_numbers = []\n",
    "    for n in range(2, max_exclusive):\n",
    "        if is_perfect(n):\n",
    "            perfect_numbers.append(n)\n",
    "    \n",
    "    return perfect_numbers\n",
    "\n",
    "perfect_numbers = calc_perfect_numbers(max_value)\n",
    "print(f\"Perfect numbers up to {max_value}: {perfect_numbers}\")\n"
   ]
  },
  {
   "cell_type": "markdown",
   "metadata": {
    "id": "53N3iK03l1e2"
   },
   "source": [
    "2. **Prime Numbers Calculation**  \n",
    "   Write a function `calc_primes_up_to(max_value)` to compute all prime numbers up to a given value. A prime number is a natural number greater than 1 that is only divisible by 1 and itself. The Sieve of Eratosthenes is a useful algorithm for this task.  \n",
    "   Test your algorithm with the following values:\n",
    "   \n",
    "   | Input | Result                                      |\n",
    "   |-------|---------------------------------------------|\n",
    "   | 15    | [2, 3, 5, 7, 11, 13]                        |\n",
    "   | 25    | [2, 3, 5, 7, 11, 13, 17, 19, 23]            |\n",
    "   | 50    | [2, 3, 5, 7, 11, 13, 17, 19, 23, 29, 31...] |"
   ]
  },
  {
   "cell_type": "code",
   "execution_count": 3,
   "metadata": {},
   "outputs": [
    {
     "name": "stdout",
     "output_type": "stream",
     "text": [
      "Enter your number: 50\n",
      "Prime numbers up to 50: [2, 3, 5, 7, 11, 13, 17, 19, 23, 29, 31, 37, 41, 43, 47]\n"
     ]
    }
   ],
   "source": [
    "max_value = int(input(\"Enter your number: \")) \n",
    "def calc_primes_up_to(max_value):\n",
    "    \"\"\"Calculate all prime numbers up to a given value using the Sieve of Eratosthenes.\"\"\"\n",
    "    if max_value < 2:\n",
    "        return []\n",
    "    \n",
    "    is_prime = [True] * (max_value + 1)\n",
    "    is_prime[0] = is_prime[1] = False  \n",
    "    \n",
    "    # Implementing Sieve of Eratosthenes\n",
    "    for number in range(2, int(max_value**0.5) + 1):\n",
    "        if is_prime[number]:\n",
    "            for multiple in range(number * number, max_value + 1, number):\n",
    "                is_prime[multiple] = False\n",
    "    \n",
    "    # Extract the list of primes\n",
    "    primes = [num for num, prime in enumerate(is_prime) if prime]\n",
    "    \n",
    "    return primes\n",
    "\n",
    "primes = calc_primes_up_to(max_value)\n",
    "print(f\"Prime numbers up to {max_value}: {primes}\")"
   ]
  },
  {
   "cell_type": "markdown",
   "metadata": {
    "id": "53N3iK03l1e2"
   },
   "source": [
    "3. **Twin, Cousin, and Sexy Prime Numbers**  \n",
    "   Compute all pairs of prime numbers with a distance of 2 (twin), 4 (cousin), and 6 (sexy) up to an upper bound `n`.  \n",
    "   For example, for `limit=50`, the expected results are:\n",
    "   \n",
    "   - **Twins**: `{3: 5, 5: 7, 11: 13, 17: 19, 29: 31, 41: 43}`\n",
    "   - **Cousins**: `{3: 7, 7: 11, 13: 17, 19: 23, 37: 41, 43: 47}`\n",
    "   - **Sexy**: `{5: 11, 7: 13, 11: 17, 13: 19, 17: 23, 23: 29, 31: 37, 37: 43, 41: 47, 47: 53}`"
   ]
  },
  {
   "cell_type": "code",
   "execution_count": 4,
   "metadata": {},
   "outputs": [
    {
     "name": "stdout",
     "output_type": "stream",
     "text": [
      "Enter your number: 50\n",
      "Twin primes up to 50: {3: 5, 5: 7, 11: 13, 17: 19, 29: 31, 41: 43}\n",
      "Cousin primes up to 50: {3: 7, 7: 11, 13: 17, 19: 23, 37: 41, 43: 47}\n",
      "Sexy primes up to 50: {5: 11, 7: 13, 11: 17, 13: 19, 17: 23, 23: 29, 31: 37, 37: 43, 41: 47}\n"
     ]
    }
   ],
   "source": [
    "n = int(input(\"Enter your number: \"))\n",
    "def Aprime_pairs(primes, difference):\n",
    "    \"\"\"Find pairs of primes with the specified difference.\"\"\"\n",
    "    prime_pairs = {}\n",
    "    prime_set = set(primes)\n",
    "    \n",
    "    for prime in primes:\n",
    "        if (prime + difference) in prime_set:\n",
    "            prime_pairs[prime] = prime + difference\n",
    "    \n",
    "    return prime_pairs\n",
    "\n",
    "def prime_pairs_up_to(n):\n",
    "    \"\"\"Compute all pairs of twin, cousin, and sexy primes up to an upper bound `n`.\"\"\"\n",
    "    primes = calc_primes_up_to(n)\n",
    "    twin_primes = Aprime_pairs(primes, 2)\n",
    "    cousin_primes = Aprime_pairs(primes, 4)\n",
    "    sexy_primes = Aprime_pairs(primes, 6)\n",
    "    \n",
    "    return twin_primes, cousin_primes, sexy_primes\n",
    "\n",
    "\n",
    "twins, cousins, sexys = prime_pairs_up_to(n)\n",
    "print(f\"Twin primes up to {n}: {twins}\")\n",
    "print(f\"Cousin primes up to {n}: {cousins}\")\n",
    "print(f\"Sexy primes up to {n}: {sexys}\")\n"
   ]
  },
  {
   "cell_type": "markdown",
   "metadata": {
    "id": "53N3iK03l1e2"
   },
   "source": [
    "4. **Sum of Digits (Recursive)**  \n",
    "   Write a recursive function `calc_sum_of_digits(value)` that calculates the sum of the digits of a given number.  \n",
    "   Examples:\n",
    "   \n",
    "   | Input  | Number of Digits | Cross Sum         |\n",
    "   |--------|------------------|-------------------|\n",
    "   | 1234   | 4                | 1 + 2 + 3 + 4 = 10|\n",
    "   | 1234567| 7                | 1 + 2 + 3 + ... 7 = 28|"
   ]
  },
  {
   "cell_type": "code",
   "execution_count": 5,
   "metadata": {
    "id": "53N3iK03l1e2"
   },
   "outputs": [
    {
     "name": "stdout",
     "output_type": "stream",
     "text": [
      "Enter your value: 1234\n",
      "Sum of digits of 1234 is: 1\n"
     ]
    }
   ],
   "source": [
    "value = int(input(\"Enter your value: \"))\n",
    "def calc_sum_of_digits(value):\n",
    "    \"\"\"Recursively sum the digits of a numbers.\"\"\"\n",
    "    if value < 10:\n",
    "        return value\n",
    "    else:\n",
    "        # Sum the digits of the number\n",
    "        digit_sum = sum(int(digit) for digit in str(value))\n",
    "        return calc_sum_of_digits(digit_sum)\n",
    "\n",
    "result = calc_sum_of_digits(value)\n",
    "print(f\"Sum of digits of {value} is: {result}\")\n"
   ]
  },
  {
   "cell_type": "markdown",
   "metadata": {
    "id": "53N3iK03l1e2"
   },
   "source": [
    "5. **Convert to Binary (Recursive)**  \n",
    "   Write a function `to_binary(n)` that recursively converts the given positive integer into its binary string representation (without using `int(x, base)`).  \n",
    "   Examples:\n",
    "   \n",
    "   | Input | Result       |\n",
    "   |-------|--------------|\n",
    "   | 5     | \"101\"        |\n",
    "   | 7     | \"111\"        |\n",
    "   | 22    | \"10110\"      |\n",
    "   | 42    | \"101010\"     |\n",
    "   | 256   | \"100000000\"  |"
   ]
  },
  {
   "cell_type": "markdown",
   "metadata": {
    "id": "53N3iK03l1e2"
   },
   "source": [
    "6. **Letter Permutations**  \n",
    "   Write a function `calc_permutations(text)` that calculates all possible permutations of the characters in the given string. Handle duplicate letters but avoid using Python's `itertools.permutations()`.  \n",
    "   Examples:\n",
    "   \n",
    "   | Input | Result                                       |\n",
    "   |-------|----------------------------------------------|\n",
    "   | \"a\"   | \"a\"                                          |\n",
    "   | \"aa\"  | \"aa\"                                         |\n",
    "   | \"aB\"  | \"aB\", \"Ba\"                                   |\n",
    "   | \"aBC\" | \"aBC\", \"BaC\", \"aCB\", \"CaB\", \"CBa\", \"BCa\"     |\n",
    "   | \"aaC\" | \"aaC\", \"aCa\", \"Caa\"                          |"
   ]
  },
  {
   "cell_type": "markdown",
   "metadata": {
    "id": "53N3iK03l1e2"
   },
   "source": [
    "7. **Join Strings with Delimiter**  \n",
    "   Write a function `join(values, delimiter)` that joins a list of strings with the given delimiter and returns it as a single string. Implement this without using Python's built-in `join()` function.  \n",
    "   Example:\n",
    "   \n",
    "   - Input: `[\"hello\", \"world\", \"message\"]`, `\" +++ \"`\n",
    "   - Result: `\"hello +++ world +++ message\"`"
   ]
  },
  {
   "cell_type": "markdown",
   "metadata": {
    "id": "53N3iK03l1e2"
   },
   "source": [
    "8. **Pascal's Triangle**  \n",
    "   Write a function `pascal(n)` that computes Pascal’s triangle as nested lists. Each line is generated from the previous one, with sums of adjacent numbers and a 1 at the beginning and end.  \n",
    "   Example for `n=5`:\n",
    "   \n",
    "   ```\n",
    "   [1]\n",
    "   [1, 1]\n",
    "   [1, 2, 1]\n",
    "   [1, 3, 3, 1]\n",
    "   [1, 4, 6, 4, 1]\n",
    "   ```"
   ]
  },
  {
   "cell_type": "markdown",
   "metadata": {
    "id": "53N3iK03l1e2"
   },
   "source": [
    "9. **Contains All Values**  \n",
    "   Write a function `contains_all(values, search_values)` that checks if all search values are present in the given list. Do not use Python's `all()` function.  \n",
    "   Examples:\n",
    "   \n",
    "   | Input                         | Search Values | Result |\n",
    "   |-------------------------------|---------------|--------|\n",
    "   | `[0, 1, 2, 3, 4, 5, 6, 7, 8, 9]` | `[7, 2]`      | True   |\n",
    "   | `[0, 1, 2, 3, 4, 5, 6, 7, 8, 9]` | `[5, 11]`     | False  |"
   ]
  },
  {
   "cell_type": "markdown",
   "metadata": {
    "id": "53N3iK03l1e2"
   },
   "source": [
    "10. **Optimized Insertion Sort**  \n",
    "    Rewrite the insertion sort algorithm to perform the sorting in one pass by finding the correct insertion point and swapping elements. Write an optimized version of `insertion_sort(values)`.  \n",
    "    Example:\n",
    "    \n",
    "    - Input: `[7, 2, 5, 1, 6, 8, 9, 4, 3]`\n",
    "    - Result: `[1, 2, 3, 4, 5, 6, 7, 8, 9]`\n",
    "    \n",
    "    \n",
    "    \n",
    "    \n",
    "    \n",
    "    \n",
    "    \n",
    "Here are the problems with the corresponding Wikipedia links for reference:\n",
    "\n",
    "---"
   ]
  },
  {
   "cell_type": "markdown",
   "metadata": {
    "id": "53N3iK03l1e2"
   },
   "source": [
    "11. **Sudoku Solver**  \n",
    "    Write a function `solve_sudoku(board)` that solves a given 9x9 Sudoku puzzle using backtracking. The puzzle is represented as a 2D list with '0' indicating empty cells. The function should modify the board in-place and return `True` if the puzzle is solved, otherwise `False`.  \n",
    "    [Sudoku - Wikipedia](https://en.wikipedia.org/wiki/Sudoku)  \n",
    "    Example Input:\n",
    "    ```python\n",
    "    board = [\n",
    "        [5, 3, 0, 0, 7, 0, 0, 0, 0],\n",
    "        [6, 0, 0, 1, 9, 5, 0, 0, 0],\n",
    "        [0, 9, 8, 0, 0, 0, 0, 6, 0],\n",
    "        [8, 0, 0, 0, 6, 0, 0, 0, 3],\n",
    "        [4, 0, 0, 8, 0, 3, 0, 0, 1],\n",
    "        [7, 0, 0, 0, 2, 0, 0, 0, 6],\n",
    "        [0, 6, 0, 0, 0, 0, 2, 8, 0],\n",
    "        [0, 0, 0, 4, 1, 9, 0, 0, 5],\n",
    "        [0, 0, 0, 0, 8, 0, 0, 7, 9]\n",
    "    ]\n",
    "    ```\n",
    "    Example Output:\n",
    "    ```python\n",
    "    board = [\n",
    "        [5, 3, 4, 6, 7, 8, 9, 1, 2],\n",
    "        [6, 7, 2, 1, 9, 5, 3, 4, 8],\n",
    "        [1, 9, 8, 3, 4, 2, 5, 6, 7],\n",
    "        [8, 5, 9, 7, 6, 1, 4, 2, 3],\n",
    "        [4, 2, 6, 8, 5, 3, 7, 9, 1],\n",
    "        [7, 1, 3, 9, 2, 4, 8, 5, 6],\n",
    "        [9, 6, 1, 5, 3, 7, 2, 8, 4],\n",
    "        [2, 8, 7, 4, 1, 9, 6, 3, 5],\n",
    "        [3, 4, 5, 2, 8, 6, 1, 7, 9]\n",
    "    ]\n",
    "    ```"
   ]
  },
  {
   "cell_type": "markdown",
   "metadata": {
    "id": "53N3iK03l1e2"
   },
   "source": [
    "12. **N-Queens Problem**  \n",
    "    Write a function `solve_n_queens(n)` to find all possible solutions for the n-queens problem. The function should return all distinct solutions as a list of lists, where each list represents the position of queens on the board. The board should be represented as a list of strings, where 'Q' and '.' indicate a queen and an empty space, respectively.  \n",
    "    [N-Queens - Wikipedia](https://en.wikipedia.org/wiki/Eight_queens_puzzle)  \n",
    "    Example Input:  \n",
    "    `n = 4`  \n",
    "    Example Output:\n",
    "    ```python\n",
    "    [\n",
    "        [\".Q..\",\n",
    "         \"...Q\",\n",
    "         \"Q...\",\n",
    "         \"..Q.\"],\n",
    "    \n",
    "        [\"..Q.\",\n",
    "         \"Q...\",\n",
    "         \"...Q\",\n",
    "         \".Q..\"]\n",
    "    ]\n",
    "    ```\n",
    "\n",
    "13. **Knapsack Problem (Dynamic Programming)**  \n",
    "    Implement a function `knapsack(weights, values, capacity)` that solves the 0/1 Knapsack problem using dynamic programming. Given a list of weights and corresponding values of `n` items, determine the maximum value that can be obtained by selecting items with a total weight not exceeding a given capacity.  \n",
    "    [Knapsack Problem - Wikipedia](https://en.wikipedia.org/wiki/Knapsack_problem)  \n",
    "    Example Input:\n",
    "    ```python\n",
    "    weights = [2, 3, 4, 5]\n",
    "    values = [3, 4, 5, 6]\n",
    "    capacity = 5\n",
    "    ```\n",
    "    Example Output:  \n",
    "    `7` (items with weights 2 and 3 are selected, values are 3 and 4)\n",
    "\n",
    "14. **Travelling Salesman Problem (TSP)**  \n",
    "    Write a function `tsp(graph)` to solve the Travelling Salesman Problem (TSP) using dynamic programming with bit masking. Given a graph represented as an adjacency matrix, find the shortest possible route that visits each city exactly once and returns to the origin city.  \n",
    "    [Travelling Salesman Problem - Wikipedia](https://en.wikipedia.org/wiki/Travelling_salesman_problem)  \n",
    "    Example Input:\n",
    "    ```python\n",
    "    graph = [\n",
    "        [0, 10, 15, 20],\n",
    "        [10, 0, 35, 25],\n",
    "        [15, 35, 0, 30],\n",
    "        [20, 25, 30, 0]\n",
    "    ]\n",
    "    ```\n",
    "    Example Output:  \n",
    "    `80` (minimum cost path: 0 → 1 → 3 → 2 → 0)\n",
    "\n",
    "15. **Word Break Problem (Dynamic Programming)**  \n",
    "    Given a string `s` and a dictionary of words `dict`, write a function `word_break(s, dict)` to determine if `s` can be segmented into a space-separated sequence of one or more dictionary words. Return all such possible sentences.  \n",
    "    [Word Break Problem - Wikipedia](https://en.wikipedia.org/wiki/Word_break_problem)  \n",
    "    Example Input:\n",
    "    ```python\n",
    "    s = \"catsanddog\"\n",
    "    dict = [\"cat\", \"cats\", \"and\", \"sand\", \"dog\"]\n",
    "    ```\n",
    "    Example Output:\n",
    "    ```python\n",
    "    [\"cats and dog\", \"cat sand dog\"]\n",
    "    ```\n",
    "    Example Input:\n",
    "    ```python\n",
    "    s = \"pineapplepenapple\"\n",
    "    dict = [\"apple\", \"pen\", \"applepen\", \"pine\", \"pineapple\"]\n",
    "    ```\n",
    "    Example Output:\n",
    "    ```python\n",
    "    [\"pine apple pen apple\", \"pineapple pen apple\", \"pine applepen apple\"]\n",
    "    ```"
   ]
  }
 ],
 "metadata": {
  "colab": {
   "provenance": []
  },
  "kernelspec": {
   "display_name": "Python 3 (ipykernel)",
   "language": "python",
   "name": "python3"
  },
  "language_info": {
   "codemirror_mode": {
    "name": "ipython",
    "version": 3
   },
   "file_extension": ".py",
   "mimetype": "text/x-python",
   "name": "python",
   "nbconvert_exporter": "python",
   "pygments_lexer": "ipython3",
   "version": "3.11.5"
  }
 },
 "nbformat": 4,
 "nbformat_minor": 1
}
