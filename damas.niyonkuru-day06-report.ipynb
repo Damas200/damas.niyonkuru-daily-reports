{
 "cells": [
  {
   "cell_type": "markdown",
   "id": "55ad1298",
   "metadata": {},
   "source": [
    "## Q1: Summation and Product for Odd and Even Indices\n",
    "\n",
    "##(i) Summation of (i + 3) for odd i\n"
   ]
  },
  {
   "cell_type": "code",
   "execution_count": 1,
   "id": "b6f82615",
   "metadata": {},
   "outputs": [
    {
     "name": "stdout",
     "output_type": "stream",
     "text": [
      "Enter a natural number n: 35\n",
      "The summation is: 340\n"
     ]
    }
   ],
   "source": [
    "n = int(input(\"Enter a natural number n: \"))\n",
    "summation = 0\n",
    "\n",
    "for i in range(n):\n",
    "    if i % 2 != 0:  \n",
    "        summation += (i + 3)\n",
    "\n",
    "print(\"The summation is:\", summation)"
   ]
  },
  {
   "cell_type": "markdown",
   "id": "e7801ebf",
   "metadata": {},
   "source": [
    "## (ii) Product of (i + 3) for even i"
   ]
  },
  {
   "cell_type": "code",
   "execution_count": 4,
   "id": "9e55c62a",
   "metadata": {},
   "outputs": [
    {
     "name": "stdout",
     "output_type": "stream",
     "text": [
      "Enter a natural number n: 5\n",
      "The summation is: 105\n"
     ]
    }
   ],
   "source": [
    "n = int(input(\"Enter a natural number n: \"))\n",
    "product= 1\n",
    "\n",
    "for i in range(n):\n",
    "    if i % 2 == 0:  \n",
    "        product *= (i+3)\n",
    " \n",
    "print(\"The summation is:\", product)"
   ]
  },
  {
   "cell_type": "markdown",
   "id": "4c8cb3a5",
   "metadata": {},
   "source": [
    "### Q2"
   ]
  },
  {
   "cell_type": "code",
   "execution_count": 6,
   "id": "1c36c8a4",
   "metadata": {},
   "outputs": [
    {
     "name": "stdout",
     "output_type": "stream",
     "text": [
      "Enter the number of the day of the week (0 to 6): 6\n",
      "Weekend\n"
     ]
    }
   ],
   "source": [
    "day = int(input(\"Enter the number of the day of the week (0 to 6): \"))\n",
    "days_of_week = [\"Sunday\", \"Monday\", \"Tuesday\", \"Wednesday\", \"Thursday\", \"Friday\", \"Saturday\"]\n",
    "\n",
    "if day in range(1, 6):  \n",
    "    print(f\"The day is: {days_of_week[day]}\")\n",
    "elif day == 0 or day == 6:  \n",
    "    print(\"Weekend\")\n",
    "else:\n",
    "    print(\"Invalid day number!\")"
   ]
  },
  {
   "cell_type": "markdown",
   "id": "549e2fac",
   "metadata": {},
   "source": [
    "### Q3 "
   ]
  },
  {
   "cell_type": "code",
   "execution_count": 7,
   "id": "6735513b",
   "metadata": {},
   "outputs": [
    {
     "name": "stdout",
     "output_type": "stream",
     "text": [
      "Enter the month number (0 to 11): 7\n",
      "The month has 31 days.\n"
     ]
    }
   ],
   "source": [
    "month = int(input(\"Enter the month number (0 to 11): \"))\n",
    "days_in_month = [31, 28, 31, 30, 31, 30, 31, 31, 30, 31, 30, 31]\n",
    "if 0 <= month <= 11:\n",
    "    print(f\"The month has {days_in_month[month]} days.\")\n",
    "else:\n",
    "    print(\"Invalid month number!\")"
   ]
  },
  {
   "cell_type": "markdown",
   "id": "9fdfc633",
   "metadata": {},
   "source": [
    "#### Q4. Write two versions of python code that displays your name 3 times. One version with a \"for loop\" and another version with a \"while loop\"."
   ]
  },
  {
   "cell_type": "code",
   "execution_count": 17,
   "id": "d211e36d",
   "metadata": {},
   "outputs": [
    {
     "name": "stdout",
     "output_type": "stream",
     "text": [
      "Entre your name:NIYONKURU Damas\n",
      "NIYONKURU Damas\n",
      "NIYONKURU Damas\n",
      "NIYONKURU Damas\n"
     ]
    }
   ],
   "source": [
    "name = input(\"Entre your name:\")\n",
    "for i in range(3):\n",
    "    print(name)"
   ]
  },
  {
   "cell_type": "code",
   "execution_count": 20,
   "id": "c54b2431",
   "metadata": {},
   "outputs": [
    {
     "name": "stdout",
     "output_type": "stream",
     "text": [
      "Entre your name:NIYONKURU Damas\n",
      "NIYONKURU Damas\n",
      "NIYONKURU Damas\n",
      "NIYONKURU Damas\n"
     ]
    }
   ],
   "source": [
    "name = input(\"Entre your name:\")\n",
    "count =0 \n",
    "\n",
    "while count < 3:\n",
    "    print(name)\n",
    "    count += 1"
   ]
  },
  {
   "cell_type": "markdown",
   "id": "5c5b731e",
   "metadata": {},
   "source": [
    "### 5. Given two numbers a0 and a1, the Fibonacci sequence they generate is constructed from the recursion formula an+1 = an + an−1. Calculate the first 15 terms of a Fibonacci sequence, asking the user the initial values."
   ]
  },
  {
   "cell_type": "code",
   "execution_count": 21,
   "id": "4c560217",
   "metadata": {},
   "outputs": [
    {
     "name": "stdout",
     "output_type": "stream",
     "text": [
      "Enter the first value a0: 2\n",
      "Enter the second value a1: 3\n",
      "2\n",
      "3\n",
      "5\n",
      "8\n",
      "13\n",
      "21\n",
      "34\n",
      "55\n",
      "89\n",
      "144\n",
      "233\n",
      "377\n",
      "610\n",
      "987\n",
      "1597\n"
     ]
    }
   ],
   "source": [
    "a0 = int(input(\"Enter the first value a0: \"))\n",
    "a1 = int(input(\"Enter the second value a1: \"))\n",
    "\n",
    "print(a0)\n",
    "print(a1)\n",
    "\n",
    "for i in range(13):  \n",
    "    next_term = a0 + a1\n",
    "    print(next_term)\n",
    "    a0 = a1\n",
    "    a1 = next_term"
   ]
  },
  {
   "cell_type": "markdown",
   "id": "cf60bc40",
   "metadata": {},
   "source": [
    "###  6. Compute the first 30 terms of the sequence defined by 2xn+2 − xn+1 − 6xn = 0 sequence, given any two initial values x0 and x1"
   ]
  },
  {
   "cell_type": "code",
   "execution_count": 22,
   "id": "926f26d5",
   "metadata": {},
   "outputs": [
    {
     "name": "stdout",
     "output_type": "stream",
     "text": [
      "Enter the first value x0: 1\n",
      "Enter the second value x1: 2\n",
      "1\n",
      "2\n",
      "4\n",
      "8\n",
      "16\n",
      "32\n",
      "64\n",
      "128\n",
      "256\n",
      "512\n",
      "1024\n",
      "2048\n",
      "4096\n",
      "8192\n",
      "16384\n",
      "32768\n",
      "65536\n",
      "131072\n",
      "262144\n",
      "524288\n",
      "1048576\n",
      "2097152\n",
      "4194304\n",
      "8388608\n",
      "16777216\n",
      "33554432\n",
      "67108864\n",
      "134217728\n",
      "268435456\n",
      "536870912\n"
     ]
    }
   ],
   "source": [
    "x0 = int(input(\"Enter the first value x0: \"))\n",
    "x1 = int(input(\"Enter the second value x1: \"))\n",
    "\n",
    "print(x0)\n",
    "print(x1)\n",
    "\n",
    "for i in range(28):  \n",
    "    x2 = (x1 + 6 * x0) // 2  \n",
    "    print(x2)\n",
    "    x0 = x1\n",
    "    x1 = x2"
   ]
  },
  {
   "cell_type": "markdown",
   "id": "28eac2d8",
   "metadata": {},
   "source": [
    "### Q7 a) Write python code to determine whether or not a year is a leap year. Be sure you now what a leap year is."
   ]
  },
  {
   "cell_type": "code",
   "execution_count": 26,
   "id": "ce3fb6d1",
   "metadata": {},
   "outputs": [
    {
     "name": "stdout",
     "output_type": "stream",
     "text": [
      "Enter a year: 2024\n",
      "2024 is a leap year.\n"
     ]
    }
   ],
   "source": [
    "year = int(input(\"Enter a year: \"))\n",
    "\n",
    "if (year % 4 == 0 and year % 100 != 0) or (year % 400 == 0):\n",
    "    print(f\"{year} is a leap year.\")\n",
    "else:\n",
    "    print(f\"{year} is not a leap year.\")"
   ]
  },
  {
   "cell_type": "code",
   "execution_count": null,
   "id": "8540679a",
   "metadata": {},
   "outputs": [],
   "source": [
    "### Q7 b) Write the code using only logical operators, i.e. no conditional branching."
   ]
  },
  {
   "cell_type": "code",
   "execution_count": 25,
   "id": "b9b0e87c",
   "metadata": {},
   "outputs": [
    {
     "name": "stdout",
     "output_type": "stream",
     "text": [
      "Enter a year: 2865\n",
      "2865 is not a leap year.\n"
     ]
    }
   ],
   "source": [
    "year = int(input(\"Enter a year: \"))\n",
    "\n",
    "is_leap = (year % 4 == 0 and year % 100 != 0) or (year % 400 == 0)\n",
    "print(year, \"is a leap year.\" if is_leap else \"is not a leap year.\")"
   ]
  },
  {
   "cell_type": "markdown",
   "id": "78b10ca6",
   "metadata": {},
   "source": [
    "### Q8. a) Write python code that computes the sum of the square of the first n natural numbers. One version with a \"for loop\" and another version with a \"while loop\"."
   ]
  },
  {
   "cell_type": "code",
   "execution_count": 27,
   "id": "360f3aa7",
   "metadata": {},
   "outputs": [
    {
     "name": "stdout",
     "output_type": "stream",
     "text": [
      "Enter a natural number n: 5\n",
      "The sum of squares is: 55\n"
     ]
    }
   ],
   "source": [
    "n = int(input(\"Enter a natural number n: \"))\n",
    "sum_of_squares = 0\n",
    "\n",
    "for i in range(1, n+1):\n",
    "    sum_of_squares += i ** 2\n",
    "\n",
    "print(f\"The sum of squares is: {sum_of_squares}\")"
   ]
  },
  {
   "cell_type": "code",
   "execution_count": 28,
   "id": "926591e0",
   "metadata": {},
   "outputs": [
    {
     "name": "stdout",
     "output_type": "stream",
     "text": [
      "Enter a natural number n: 5\n",
      "The sum of squares is: 55\n"
     ]
    }
   ],
   "source": [
    "n = int(input(\"Enter a natural number n: \"))\n",
    "sum_of_squares = 0\n",
    "i = 1\n",
    "\n",
    "while i <= n:\n",
    "    sum_of_squares += i ** 2\n",
    "    i += 1\n",
    "\n",
    "print(f\"The sum of squares is: {sum_of_squares}\")"
   ]
  },
  {
   "cell_type": "markdown",
   "id": "4301d238",
   "metadata": {},
   "source": [
    "### Q8. b) Write python code that prints, for a natural number M, the smallest natural number n such that 1 2 + 22 +· · ·+n 2 ≥ M. One version with a \"for loop\" and another versionwith \"while loop\"."
   ]
  },
  {
   "cell_type": "code",
   "execution_count": 29,
   "id": "5967d5b7",
   "metadata": {},
   "outputs": [
    {
     "name": "stdout",
     "output_type": "stream",
     "text": [
      "Enter a natural number M: 45\n",
      "The smallest n such that the sum of squares is ≥ 45 is: 5\n"
     ]
    }
   ],
   "source": [
    "M = int(input(\"Enter a natural number M: \"))\n",
    "sum_of_squares = 0\n",
    "\n",
    "for n in range(1, M+1):\n",
    "    sum_of_squares += n ** 2\n",
    "    if sum_of_squares >= M:\n",
    "        print(f\"The smallest n such that the sum of squares is ≥ {M} is: {n}\")\n",
    "        break"
   ]
  },
  {
   "cell_type": "code",
   "execution_count": 30,
   "id": "e54256ff",
   "metadata": {},
   "outputs": [
    {
     "name": "stdout",
     "output_type": "stream",
     "text": [
      "Enter a natural number M: 45\n",
      "The smallest n such that the sum of squares is ≥ 45 is: 5\n"
     ]
    }
   ],
   "source": [
    "M = int(input(\"Enter a natural number M: \"))\n",
    "sum_of_squares = 0\n",
    "n = 1\n",
    "\n",
    "while sum_of_squares < M:\n",
    "    sum_of_squares += n ** 2\n",
    "    if sum_of_squares >= M:\n",
    "        print(f\"The smallest n such that the sum of squares is ≥ {M} is: {n}\")\n",
    "    n += 1"
   ]
  },
  {
   "cell_type": "markdown",
   "id": "7129e1fa",
   "metadata": {},
   "source": [
    "### Q9. a) Write python code that prints all the divisors of a given natural number."
   ]
  },
  {
   "cell_type": "code",
   "execution_count": 31,
   "id": "f0873390",
   "metadata": {
    "scrolled": true
   },
   "outputs": [
    {
     "name": "stdout",
     "output_type": "stream",
     "text": [
      "Enter a natural number: 36\n",
      "The divisors of 36 are:\n",
      "1\n",
      "2\n",
      "3\n",
      "4\n",
      "6\n",
      "9\n",
      "12\n",
      "18\n",
      "36\n"
     ]
    }
   ],
   "source": [
    "num = int(input(\"Enter a natural number: \"))\n",
    "\n",
    "print(f\"The divisors of {num} are:\")\n",
    "for i in range(1, num+1):\n",
    "    if num % i == 0:\n",
    "        print(i)"
   ]
  },
  {
   "cell_type": "markdown",
   "id": "fa03ef39",
   "metadata": {},
   "source": [
    "### Q9. b) Read an integer number input by the user and calculate its prime factors. This will just be some of its divisors."
   ]
  },
  {
   "cell_type": "code",
   "execution_count": 42,
   "id": "d90dafc8",
   "metadata": {},
   "outputs": [
    {
     "name": "stdout",
     "output_type": "stream",
     "text": [
      "Enter a natural number: 54\n",
      "The prime factors of 54 are:\n",
      "2\n",
      "3\n",
      "3\n",
      "3\n"
     ]
    }
   ],
   "source": [
    "num = int(input(\"Enter a natural number: \"))\n",
    "i = 2\n",
    "\n",
    "print(f\"The prime factors of {num} are:\")\n",
    "\n",
    "while num > 1:\n",
    "    if num % i == 0:\n",
    "        print(i)\n",
    "        num //= i\n",
    "    else:\n",
    "        i += 1"
   ]
  },
  {
   "cell_type": "markdown",
   "id": "62b82d10",
   "metadata": {},
   "source": [
    "### Q10. Read an integer number between n 0 and 9 and print its multiplication table up to Nwhere N is another another natural number read by the program."
   ]
  },
  {
   "cell_type": "code",
   "execution_count": 36,
   "id": "f6f43568",
   "metadata": {},
   "outputs": [
    {
     "name": "stdout",
     "output_type": "stream",
     "text": [
      "Enter an integer between 0 and 9: 2\n",
      "Enter the value of N: 4\n",
      "Multiplication table of 2:\n",
      "2 x 1 = 2\n",
      "2 x 2 = 4\n",
      "2 x 3 = 6\n",
      "2 x 4 = 8\n"
     ]
    }
   ],
   "source": [
    "x = int(input(\"Enter an integer between 0 and 9: \"))\n",
    "\n",
    "if 0 <= x <= 9:\n",
    "    N = int(input(\"Enter the value of N: \"))\n",
    "    print(f\"Multiplication table of {x}:\")\n",
    "    for i in range(1, N+1):\n",
    "        print(f\"{x} x {i} = {x * i}\")\n",
    "else:\n",
    "    print(\"Invalid input! The number should be between 0 and 9.\")"
   ]
  },
  {
   "cell_type": "markdown",
   "id": "d843b847",
   "metadata": {},
   "source": [
    "### Q11. Write a program that prints all the numbers between 0 and 40 that are multiples of 3, 7or 11."
   ]
  },
  {
   "cell_type": "code",
   "execution_count": 37,
   "id": "1dc41129",
   "metadata": {},
   "outputs": [
    {
     "name": "stdout",
     "output_type": "stream",
     "text": [
      "0\n",
      "3\n",
      "6\n",
      "7\n",
      "9\n",
      "11\n",
      "12\n",
      "14\n",
      "15\n",
      "18\n",
      "21\n",
      "22\n",
      "24\n",
      "27\n",
      "28\n",
      "30\n",
      "33\n",
      "35\n",
      "36\n",
      "39\n"
     ]
    }
   ],
   "source": [
    "for i in range(41): \n",
    "    if i % 3 == 0 or i % 7 == 0 or i % 11 == 0:\n",
    "        print(i)"
   ]
  },
  {
   "cell_type": "markdown",
   "id": "9518f12e",
   "metadata": {},
   "source": [
    "### Q12. Write python code that prints the floor of a float x. Recall that the floor of a float x is thelargest integer value less than or equal to x, i.e. if E[x] is the floor of x, then it satisfies,E[x] = 1 + E[x − 1]"
   ]
  },
  {
   "cell_type": "code",
   "execution_count": 38,
   "id": "739c9da1",
   "metadata": {},
   "outputs": [
    {
     "name": "stdout",
     "output_type": "stream",
     "text": [
      "Enter a floating-point number: 43\n",
      "The floor of 43.0 is 43\n"
     ]
    }
   ],
   "source": [
    "x = float(input(\"Enter a floating-point number: \"))\n",
    "\n",
    "# Calculate the floor of x\n",
    "floor = int(x) if x >= 0 else int(x) - 1\n",
    "print(f\"The floor of {x} is {floor}\")"
   ]
  },
  {
   "cell_type": "markdown",
   "id": "a938df54",
   "metadata": {},
   "source": [
    "### Q13. Given a point in the plane by its Cartesian coordinates, determine in which quadrant it is(1st, 2nd, 3rd, 4th), if it lies on an axis, or if it is the origin. Do this for several points inthe same execution of the program until the user quits."
   ]
  },
  {
   "cell_type": "code",
   "execution_count": 39,
   "id": "b9980747",
   "metadata": {},
   "outputs": [
    {
     "name": "stdout",
     "output_type": "stream",
     "text": [
      "Enter the x-coordinate: 3\n",
      "Enter the y-coordinate: 4\n",
      "The point is in the 1st quadrant.\n",
      "Do you want to quit? (yes/no): yes\n"
     ]
    }
   ],
   "source": [
    "while True:\n",
    "    x = float(input(\"Enter the x-coordinate: \"))\n",
    "    y = float(input(\"Enter the y-coordinate: \"))\n",
    "\n",
    "    if x == 0 and y == 0:\n",
    "        print(\"The point is the origin.\")\n",
    "    elif x == 0:\n",
    "        print(\"The point lies on the y-axis.\")\n",
    "    elif y == 0:\n",
    "        print(\"The point lies on the x-axis.\")\n",
    "    elif x > 0 and y > 0:\n",
    "        print(\"The point is in the 1st quadrant.\")\n",
    "    elif x < 0 and y > 0:\n",
    "        print(\"The point is in the 2nd quadrant.\")\n",
    "    elif x < 0 and y < 0:\n",
    "        print(\"The point is in the 3rd quadrant.\")\n",
    "    elif x > 0 and y < 0:\n",
    "        print(\"The point is in the 4th quadrant.\")\n",
    "\n",
    "    # Ask if the user wants to quit\n",
    "    quit_program = input(\"Do you want to quit? (yes/no): \").lower()\n",
    "    if quit_program == \"yes\":\n",
    "        break"
   ]
  },
  {
   "cell_type": "markdown",
   "id": "f70b96b8",
   "metadata": {},
   "source": [
    "### Q14. Ask for an integer number between 0 and 9, denoted x. Once the user has entered a correctnumber (that is one in the range [0..10)) the program asks for a second integer numberbetween 0 and 255, denoted max. The program continues asking for the number until it is correct (that it is in the range [0..256)). When this is done, show all multiples of x thatare between 0 and max. Then, ask the user whether he/she wants to continue; if in theaffirmative, ask for another couple of numbers, otherwise finish."
   ]
  },
  {
   "cell_type": "code",
   "execution_count": 41,
   "id": "595b99dd",
   "metadata": {},
   "outputs": [
    {
     "name": "stdout",
     "output_type": "stream",
     "text": [
      "Enter a number between 0 and 9: 4\n",
      "Enter a number between 0 and 255: 76\n",
      "Multiples of 4 between 0 and 76:\n",
      "4\n",
      "8\n",
      "12\n",
      "16\n",
      "20\n",
      "24\n",
      "28\n",
      "32\n",
      "36\n",
      "40\n",
      "44\n",
      "48\n",
      "52\n",
      "56\n",
      "60\n",
      "64\n",
      "68\n",
      "72\n",
      "76\n",
      "Do you want to continue? (yes/no): no\n"
     ]
    }
   ],
   "source": [
    "while True:\n",
    "    x = int(input(\"Enter a number between 0 and 9: \"))\n",
    "    if 0 <= x <= 9:\n",
    "        max_value = int(input(\"Enter a number between 0 and 255: \"))\n",
    "        if 0 <= max_value <= 255:\n",
    "            print(f\"Multiples of {x} between 0 and {max_value}:\")\n",
    "            for i in range(x, max_value+1, x):  # Iterate through multiples of x\n",
    "                print(i)\n",
    "        else:\n",
    "            print(\"Invalid input! The number should be between 0 and 255.\")\n",
    "    else:\n",
    "        print(\"Invalid input! The number should be between 0 and 9.\")\n",
    "    \n",
    "    # Ask if the user wants to continue\n",
    "    continue_program = input(\"Do you want to continue? (yes/no): \").lower()\n",
    "    if continue_program == \"no\":\n",
    "        break"
   ]
  },
  {
   "cell_type": "code",
   "execution_count": null,
   "id": "ae148e36",
   "metadata": {},
   "outputs": [],
   "source": []
  }
 ],
 "metadata": {
  "kernelspec": {
   "display_name": "Python 3",
   "language": "python",
   "name": "python3"
  },
  "language_info": {
   "codemirror_mode": {
    "name": "ipython",
    "version": 3
   },
   "file_extension": ".py",
   "mimetype": "text/x-python",
   "name": "python",
   "nbconvert_exporter": "python",
   "pygments_lexer": "ipython3",
   "version": "3.9.2"
  }
 },
 "nbformat": 4,
 "nbformat_minor": 5
}
